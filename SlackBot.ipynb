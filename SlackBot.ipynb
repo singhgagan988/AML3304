{
 "cells": [
  {
   "cell_type": "code",
   "execution_count": 3,
   "id": "0d3b3681",
   "metadata": {},
   "outputs": [
    {
     "name": "stdout",
     "output_type": "stream",
     "text": [
      " * Serving Flask app '__main__' (lazy loading)\n",
      " * Environment: production\n",
      "\u001b[31m   WARNING: This is a development server. Do not use it in a production deployment.\u001b[0m\n",
      "\u001b[2m   Use a production WSGI server instead.\u001b[0m\n",
      " * Debug mode: on\n"
     ]
    },
    {
     "name": "stderr",
     "output_type": "stream",
     "text": [
      " * Restarting with stat\n"
     ]
    },
    {
     "ename": "SystemExit",
     "evalue": "1",
     "output_type": "error",
     "traceback": [
      "An exception has occurred, use %tb to see the full traceback.\n",
      "\u001b[1;31mSystemExit\u001b[0m\u001b[1;31m:\u001b[0m 1\n"
     ]
    }
   ],
   "source": [
    "import slack\n",
    "import os\n",
    "from pathlib import Path\n",
    "from dotenv import load_dotenv\n",
    "from flask import Flask\n",
    "from slackeventsapi import SlackEventAdapter\n",
    "\n",
    "env_path=Path('.') / '.env'\n",
    "load_dotenv(dotenv_path=env_path)\n",
    "\n",
    "app= Flask(__name__)\n",
    "\n",
    "slack_event_adapter= SlackEventAdapter(os.environ['SIGNING_SECRET'],'/slack/events',app)\n",
    "client= slack.WebClient(token=os.environ['SLACK_TOKEN'])\n",
    "client.chat_postMessage(channel='#capstone-project',text=\"Hello World..!!\")\n",
    "BOT_ID= client.api_call(\"auth.test\")['user_id']\n",
    "@slack_event_adapter.on('message')\n",
    "def message(payload):\n",
    "    event=payload.get('event',{})\n",
    "    channel_id=event.get('channel')\n",
    "    user_id=event.get('user')\n",
    "    text=event.get('text')\n",
    "    if BOT_ID != user_id:\n",
    "        client.chat_postMessage(channel=channel_id, text=text)\n",
    "    \n",
    "\n",
    "if __name__==\"__main__\":\n",
    "    app.run(debug=True)\n"
   ]
  },
  {
   "cell_type": "code",
   "execution_count": null,
   "id": "a7152210",
   "metadata": {},
   "outputs": [],
   "source": []
  }
 ],
 "metadata": {
  "kernelspec": {
   "display_name": "Python 3.9.9 64-bit",
   "language": "python",
   "name": "python3"
  },
  "language_info": {
   "codemirror_mode": {
    "name": "ipython",
    "version": 3
   },
   "file_extension": ".py",
   "mimetype": "text/x-python",
   "name": "python",
   "nbconvert_exporter": "python",
   "pygments_lexer": "ipython3",
   "version": "3.9.9"
  },
  "vscode": {
   "interpreter": {
    "hash": "851882c12c4c8b5a259dad4c43d980c2405ab00227e1a2528de42288349dc86d"
   }
  }
 },
 "nbformat": 4,
 "nbformat_minor": 5
}
